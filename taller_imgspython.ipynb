{
 "cells": [
  {
   "cell_type": "markdown",
   "metadata": {},
   "source": [
    "# $$ \\text{Imágenes Satelitales} \\cap \\text{Python} $$\n",
    "\n",
    "## 0. Importamos (algunas) de las librerías que vamos a utilizar: "
   ]
  },
  {
   "cell_type": "code",
   "execution_count": null,
   "metadata": {},
   "outputs": [],
   "source": [
    "%matplotlib notebook\n",
    "#%matplotlib nbagg \n",
    "# va a ser importante utilizat nbagg o notebook, en este caso inline no\n",
    "# ns servira porque querremos interactuar con los gráficos.\n",
    "import matplotlib.pyplot as plt\n",
    "import gdal\n",
    "import numpy as np\n",
    "from skimage import exposure\n",
    "import pandas as pd\n",
    "# import seaborn as sns\n",
    "\n",
    "\n",
    "\n",
    "\n",
    "def firmas_teo():\n",
    "    # Muchos de estos datos los pude obtener gracias a Maira Gayol, muchas gracias!\n",
    "    x = [1,2,3,4,5,6]\n",
    "    plt.plot(x,[0.03,0.05,0.04,0.4,0.14,0.07],color='g',label='vegetacion densa',marker='o')\n",
    "    plt.plot(x,[0.03,0.05,0.04,0.27,0.12,0.07],color='g',label='vegetacion no densa',marker='o')\n",
    "\n",
    "    plt.plot(x,[0.05,0.11,0.13,0.06,0.02,0.01],color='brown',label='agua turbia',marker='o')\n",
    "    plt.plot(x,[0.03,0.04,0.035,0.05,0.02,0.01],color='b',label='agua clara',marker='o')\n",
    "    plt.plot(x,[ 0.10, 0.13, 0.15, 0.26, 0.25, 0.21],color='gray',label='ciudad',marker='o')\n",
    "    #plt.plot(x,[4,3,2,5],color='b',label='vegetacion')\n",
    "    plt.ylim(0.0,0.5)\n",
    "    plt.legend()\n",
    "    plt.xticks(np.arange(1,7),('Blue','Green','Red','NIR','SWIR1','SWIR2'))\n",
    "    plt.xlabel('Bandas')\n",
    "    plt.ylabel('Reflectancia')\n",
    "\n",
    "\n",
    "def array2raster_1band(out_name,array,geo_trans,proj):\n",
    "    # https://pcjericks.github.io/py-gdalogr-cookbook/raster_layers.html\n",
    "    # http://blog.remotesensing.io/2013/03/using-gdal-with-python-basic-intro/\n",
    "\n",
    "    # First of all, gather some information from the original file\n",
    "    cols,rows = array.shape\n",
    "    trans       = geo_trans\n",
    "    proj        = proj\n",
    "    #nodatav     = data.GetNoDataValue()\n",
    "    outfile     = out_name\n",
    "\n",
    "    # Create the file, using the information from the original file\n",
    "    outdriver = gdal.GetDriverByName(\"GTiff\")\n",
    "    outdata   = outdriver.Create(str(outfile), rows, cols, 1, gdal.GDT_Float32)\n",
    "\n",
    "    # Georeference the image\n",
    "    outdata.SetGeoTransform(trans)\n",
    "\n",
    "    # Write projection information\n",
    "    outdata.SetProjection(proj)\n",
    "\n",
    "    band = outdata.GetRasterBand(1)\n",
    "    band.WriteArray(array)\n",
    "    band.FlushCache()\n",
    "    \n",
    "\n",
    "def array2raster(out_name,array,geo_trans,proj):\n",
    "    # First of all, gather some information from the original file\n",
    "    cols,rows,bands = array.shape\n",
    "\n",
    "\n",
    "\n",
    "    # Create the file, using the information from the original file\n",
    "    outdriver = gdal.GetDriverByName(\"GTiff\")\n",
    "    outdata   = outdriver.Create(str(outfile), rows, cols, bands, gdal.GDT_Float32)\n",
    "\n",
    "\n",
    "    # Georeference the image\n",
    "    outdata.SetGeoTransform(trans)\n",
    "\n",
    "    # Write projection information\n",
    "    outdata.SetProjection(proj)\n",
    "\n",
    "\n",
    "    for i in range(1,4):\n",
    "        band = outdata.GetRasterBand(i)\n",
    "        band.WriteArray(array[i-1,:,:])\n",
    "        band.FlushCache()\n"
   ]
  },
  {
   "cell_type": "markdown",
   "metadata": {},
   "source": [
    "## 1. Importamos las bandas, creamos un stack y clipeamos la imagen:\n",
    "\n",
    "### 1.1 Levantamos las bandas y hacemos el stack:"
   ]
  },
  {
   "cell_type": "code",
   "execution_count": null,
   "metadata": {},
   "outputs": [],
   "source": []
  },
  {
   "cell_type": "code",
   "execution_count": null,
   "metadata": {},
   "outputs": [],
   "source": [
    "\n",
    "# This program builds a VRT (Virtual Dataset) that is a mosaic of the list of input GDAL datasets.\n",
    "#The list of input GDAL datasets can be specified at the end of the command line, or put in a text file\n",
    "#(one filename per line) for very long lists, or it can be a MapServer tileindex (see gdaltindex utility).\n",
    "#In the later case, all entries in the tile index will be added to the VRT.\n",
    "# With -separate, each files goes into a separate band in the VRT band. Otherwise, the files are\n",
    "#considered as tiles of a larger mosaic and the VRT file has as many bands as one of the input files.\n",
    "\n",
    "\n",
    "\n",
    "\n",
    "\n",
    "#The gdal_translate utility can be used to convert raster data between different formats, potentially performing some operations like subsettings, resampling, and rescaling pixels in the process."
   ]
  },
  {
   "cell_type": "code",
   "execution_count": null,
   "metadata": {},
   "outputs": [],
   "source": [
    "print(\"Formato: \" )\n",
    "print(\"En total tiene  bandas\" )\n",
    "print(\"En total tiene  filas\" )\n",
    "print(\"En total tiene  columnas\" )\n",
    "\n",
    "\n"
   ]
  },
  {
   "cell_type": "code",
   "execution_count": null,
   "metadata": {},
   "outputs": [],
   "source": [
    "img_geotransform = l8_stack.GetGeoTransform()\n",
    "print(\"La esquina arriba a la izquierda, tiene coordenadas:\")\n",
    "print(\"La resolución de los pxeles es: \")\n",
    "\n",
    "\n"
   ]
  },
  {
   "cell_type": "markdown",
   "metadata": {},
   "source": [
    "### 1.3 Pasamos a coordenadas geograficas:"
   ]
  },
  {
   "cell_type": "code",
   "execution_count": null,
   "metadata": {},
   "outputs": [],
   "source": [
    "\n",
    "    \n"
   ]
  },
  {
   "cell_type": "markdown",
   "metadata": {},
   "source": [
    "### 1.4 Realizamos un clip:\n"
   ]
  },
  {
   "cell_type": "code",
   "execution_count": null,
   "metadata": {},
   "outputs": [],
   "source": [
    "#bajo Delta:\n",
    "xmin=-58.6\n",
    "xmax=-58.4\n",
    "ymin=-34.5\n",
    "ymax=-34.29\n",
    "\n",
    "\n",
    "\n"
   ]
  },
  {
   "cell_type": "markdown",
   "metadata": {},
   "source": [
    "### Multiplicamos por 0.0001"
   ]
  },
  {
   "cell_type": "code",
   "execution_count": null,
   "metadata": {},
   "outputs": [],
   "source": [
    "\n"
   ]
  },
  {
   "cell_type": "markdown",
   "metadata": {},
   "source": [
    "### 1.5 Obervamos el clip en RGB:"
   ]
  },
  {
   "cell_type": "code",
   "execution_count": null,
   "metadata": {},
   "outputs": [],
   "source": [
    "\n",
    "#Stack arrays in sequence depth wise (along third axis).\n",
    "\n"
   ]
  },
  {
   "cell_type": "markdown",
   "metadata": {},
   "source": [
    "## 2. Extracción de polígonos con roipoly\n",
    "\n",
    "#### Creacion de poligonos\n",
    "\n",
    "Para esto utlizaremos la clase \"roipoly\", veamos como crear un poligono:"
   ]
  },
  {
   "cell_type": "code",
   "execution_count": null,
   "metadata": {},
   "outputs": [],
   "source": [
    "from roipoly import roipoly"
   ]
  },
  {
   "cell_type": "markdown",
   "metadata": {},
   "source": [
    "\n",
    "#### Obtención de máscaras:\n",
    "Podemos hallar la mascara generada por el polígono:\n",
    "(¿Qué es una máscara?)\n"
   ]
  },
  {
   "cell_type": "code",
   "execution_count": null,
   "metadata": {},
   "outputs": [],
   "source": []
  },
  {
   "cell_type": "markdown",
   "metadata": {},
   "source": [
    "##### Ahora, utilizando la máscara, obtener los valores de los pixeles que pertenecen al polígono:"
   ]
  },
  {
   "cell_type": "code",
   "execution_count": null,
   "metadata": {},
   "outputs": [],
   "source": []
  },
  {
   "cell_type": "markdown",
   "metadata": {},
   "source": [
    "##### Cómo podemos hacer para observar algun polígono ya marcado y crear uno nuevo?\n",
    "\n",
    "Ahora mostramos el polígono marcado y creamos uno nuevo:"
   ]
  },
  {
   "cell_type": "code",
   "execution_count": null,
   "metadata": {},
   "outputs": [],
   "source": []
  },
  {
   "cell_type": "markdown",
   "metadata": {},
   "source": [
    "#### Misión:\n",
    "    1) En la imagen se pueden observar distintas regiones homogeneas. Marcar 3 polígonos distintos en la imagen rgb, cada uno de ellos correspondiente a una zona homogenea distinta. Llamar a los polígonos: pol1, pol2 y pol3\n",
    "    2) Luego, extraer los valores (en todas las bandas) de los pixeles asociados a cada polígono. Llamar a cada conjunto de datos: valores_pol1, valores_pol2 y valores_pol3."
   ]
  },
  {
   "cell_type": "code",
   "execution_count": null,
   "metadata": {},
   "outputs": [],
   "source": []
  },
  {
   "cell_type": "code",
   "execution_count": null,
   "metadata": {},
   "outputs": [],
   "source": []
  },
  {
   "cell_type": "code",
   "execution_count": null,
   "metadata": {},
   "outputs": [],
   "source": []
  },
  {
   "cell_type": "markdown",
   "metadata": {},
   "source": [
    "#### 2.1 Comparando las firmas espectrales, asociamos a cada polígono con un tipo de cobertura\n",
    "\n",
    "Graficar las firmas espectrales asociadas a cada polígono"
   ]
  },
  {
   "cell_type": "code",
   "execution_count": null,
   "metadata": {},
   "outputs": [],
   "source": []
  },
  {
   "cell_type": "markdown",
   "metadata": {},
   "source": [
    "## Concluir cada polígono a que cobertura pertenece, cambiar los nombres:"
   ]
  },
  {
   "cell_type": "code",
   "execution_count": null,
   "metadata": {},
   "outputs": [],
   "source": []
  },
  {
   "cell_type": "markdown",
   "metadata": {},
   "source": [
    "## 3. Crear un mapa de coberturas\n",
    "\n",
    "### ¿Cómo podemos automatizar la clasificación en vez de ir analizando cada pixel por separado?"
   ]
  },
  {
   "cell_type": "code",
   "execution_count": null,
   "metadata": {},
   "outputs": [],
   "source": [
    "from sklearn.neighbors import KNeighborsClassifier as KNN\n",
    "from sklearn.model_selection import train_test_split\n",
    "\n"
   ]
  },
  {
   "cell_type": "code",
   "execution_count": null,
   "metadata": {},
   "outputs": [],
   "source": [
    "import seaborn as sns\n",
    "\n",
    "cm = confusion_matrix(y_test, y_pred)\n",
    "plt.clf()\n",
    "plt.imshow(cm,interpolation='nearest',cmap='Pastel1')#cmap='PiYG')\n",
    "for i in range(3):\n",
    "    for j in range(3):\n",
    "        plt.text(i,j,str(cm[i][j]))\n",
    "plt.show()\n",
    "#sns.heatmap(confusion_matrix(y_test, y_pred),annot=True,fmt=\"d\")\n",
    "#classNames = ['agua','vegetacion','ciudad']\n",
    "#tick_marks = np.arange(len(classNames))\n",
    "#plt.xticks(tick_marks, classNames)\n",
    "#plt.yticks(tick_marks, classNames)"
   ]
  }
 ],
 "metadata": {
  "kernelspec": {
   "display_name": "Python 3",
   "language": "python",
   "name": "python3"
  },
  "language_info": {
   "codemirror_mode": {
    "name": "ipython",
    "version": 3
   },
   "file_extension": ".py",
   "mimetype": "text/x-python",
   "name": "python",
   "nbconvert_exporter": "python",
   "pygments_lexer": "ipython3",
   "version": "3.7.0"
  }
 },
 "nbformat": 4,
 "nbformat_minor": 2
}
